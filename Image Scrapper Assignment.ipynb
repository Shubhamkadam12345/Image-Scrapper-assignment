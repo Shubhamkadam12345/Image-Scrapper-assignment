{
 "cells": [
  {
   "cell_type": "code",
   "execution_count": null,
   "id": "45f38a7f-fd41-44cd-ae48-cb11ee88f7ba",
   "metadata": {},
   "outputs": [],
   "source": [
    "Q.1"
   ]
  },
  {
   "cell_type": "code",
   "execution_count": 1,
   "id": "10fec5d9-333f-499e-811b-34663a898b8d",
   "metadata": {},
   "outputs": [],
   "source": [
    "# /user/bin/env python"
   ]
  },
  {
   "cell_type": "code",
   "execution_count": 2,
   "id": "0657f080-0625-48e5-a0cb-d2fc84e5851a",
   "metadata": {},
   "outputs": [
    {
     "ename": "SyntaxError",
     "evalue": "unterminated string literal (detected at line 1) (1401347293.py, line 1)",
     "output_type": "error",
     "traceback": [
      "\u001b[0;36m  Cell \u001b[0;32mIn[2], line 1\u001b[0;36m\u001b[0m\n\u001b[0;31m    \" \" \" guesser py by Richard White, 2012-01-16\u001b[0m\n\u001b[0m        ^\u001b[0m\n\u001b[0;31mSyntaxError\u001b[0m\u001b[0;31m:\u001b[0m unterminated string literal (detected at line 1)\n"
     ]
    }
   ],
   "source": [
    "\" \" \" guesser py by Richard White, 2012-01-16"
   ]
  },
  {
   "cell_type": "code",
   "execution_count": 3,
   "id": "b0fb1496-8b41-4f11-9b1d-bf3eca66a996",
   "metadata": {},
   "outputs": [
    {
     "ename": "SyntaxError",
     "evalue": "invalid syntax (1332178130.py, line 1)",
     "output_type": "error",
     "traceback": [
      "\u001b[0;36m  Cell \u001b[0;32mIn[3], line 1\u001b[0;36m\u001b[0m\n\u001b[0;31m    This program has the user guess a number between 1 an d 100\u001b[0m\n\u001b[0m         ^\u001b[0m\n\u001b[0;31mSyntaxError\u001b[0m\u001b[0;31m:\u001b[0m invalid syntax\n"
     ]
    }
   ],
   "source": [
    "This program has the user guess a number between 1 an d 100"
   ]
  },
  {
   "cell_type": "code",
   "execution_count": null,
   "id": "3bad6905-d153-42ef-8fb2-9d134bdcf342",
   "metadata": {},
   "outputs": [],
   "source": [
    "import random"
   ]
  },
  {
   "cell_type": "code",
   "execution_count": null,
   "id": "fc33da42-5653-4e28-8192-002b036332f9",
   "metadata": {},
   "outputs": [],
   "source": [
    "def main ()"
   ]
  },
  {
   "cell_type": "code",
   "execution_count": null,
   "id": "2f29be87-6d04-4178-a866-b1adfdd6b455",
   "metadata": {},
   "outputs": [],
   "source": [
    "# initialize the program\n",
    "print \" guess a number a number between 1 and 100\"\n",
    "# random Number= 35 for debugging only\n",
    "randomNumber = random randint ( 1,100 )\n",
    "found = false      # flag variable to see\n",
    "                   # if they guessed it\n",
    "# Rum through the guessing process \n",
    "while not found \n",
    "usersGuess = input (\" your guess\")\n",
    "if usersguess == random Number\n",
    "   print \" you got it! \n",
    "    found= true \n",
    "    elif usersGuess> random Number:\n",
    "        print Guess Lower!\"\n",
    "        else:\n",
    "            print\" Guess higher !\"       "
   ]
  },
  {
   "cell_type": "code",
   "execution_count": null,
   "id": "c6d05c94-f156-4416-9769-2a3240de1517",
   "metadata": {},
   "outputs": [],
   "source": [
    "# print Constratulation and good bye\n",
    "print \"Thanks for playing our game:"
   ]
  },
  {
   "cell_type": "code",
   "execution_count": null,
   "id": "149ba68f-e0c1-415b-9dc1-d24cc642a80e",
   "metadata": {},
   "outputs": [],
   "source": [
    "if_____name____==____main____\":\n",
    "main ()"
   ]
  },
  {
   "cell_type": "code",
   "execution_count": null,
   "id": "2022fecf-03ab-49d2-b8ed-285a2f36e2ef",
   "metadata": {},
   "outputs": [],
   "source": [
    "Q.2"
   ]
  },
  {
   "cell_type": "code",
   "execution_count": null,
   "id": "180d2e99-043b-46b7-9c3b-921ff80bde11",
   "metadata": {},
   "outputs": [],
   "source": [
    "From PIL import Image\n",
    "def nails ():\n",
    "try:\n",
    "    image = Image open ( images/ cat. jpg)\n",
    "    image thumbnail (( 90, 90 ))\n",
    "    image save ( images/ thumbnail. jpg )\n",
    "    image 1 = Image open ( images/ thumbnail. jpg)\n",
    "    image 1 shown ()"
   ]
  },
  {
   "cell_type": "code",
   "execution_count": null,
   "id": "f2ab69e0-b916-4d14-8a31-32b79edc9df5",
   "metadata": {},
   "outputs": [],
   "source": [
    "Q.3"
   ]
  },
  {
   "cell_type": "code",
   "execution_count": null,
   "id": "da7e6eb2-a820-4d1f-9047-05cf743fa626",
   "metadata": {},
   "outputs": [],
   "source": [
    "import urllib\n",
    "import re\n",
    "urls = [ https:// www.google.com\",\" https:// www.code forces. com\" ]\n",
    "pattern = < title > ( + ? ) </ title >\n",
    "result = re. complie ( pattern )"
   ]
  },
  {
   "cell_type": "code",
   "execution_count": null,
   "id": "fcd68613-94c3-4b59-98f6-ca1aaab9507e",
   "metadata": {},
   "outputs": [],
   "source": [
    "for url in urls:\n",
    "    htmlsources = urllib urlopen ( url )\n",
    "    htmltext = htmlsource reac ()\n",
    "    titles= re finda 11 ( result, html text) \n",
    "    print titles"
   ]
  },
  {
   "cell_type": "code",
   "execution_count": null,
   "id": "82c3720f-cf92-467e-9ede-f91fc1516477",
   "metadata": {},
   "outputs": [],
   "source": [
    "Q.4"
   ]
  },
  {
   "cell_type": "code",
   "execution_count": null,
   "id": "6fe92bf8-1004-49fe-86ae-cfa880f2a5d9",
   "metadata": {},
   "outputs": [],
   "source": [
    "import pandas as pd\n",
    "from yt__stats import YT stats\n",
    "from tqd import tqdm"
   ]
  },
  {
   "cell_type": "code",
   "execution_count": null,
   "id": "5f64598f-6a40-4443-8343-34c84898c933",
   "metadata": {},
   "outputs": [],
   "source": [
    "API__ key = ###### API key ######"
   ]
  },
  {
   "cell_type": "code",
   "execution_count": null,
   "id": "154b1901-93ee-4338-bdd0-0497ac3a07c4",
   "metadata": {},
   "outputs": [],
   "source": [
    "df= pd read__excel ( youtube___video___)\n",
    "views = []"
   ]
  },
  {
   "cell_type": "code",
   "execution_count": null,
   "id": "ec86d6d3-47e9-4863-b864-1961a3bb9318",
   "metadata": {},
   "outputs": [],
   "source": [
    "for x,yn tqdm ( zip ( df [ df [\" video ID\"]\n",
    "          channel __id=y\n",
    "          video___id=x\n",
    "          part= statistics\n",
    "          yt= YT stats ( API, key, channel\n",
    "          a= yt___get single ___video___data(\n",
    "          views appenda ( a [ view count ])"
   ]
  },
  {
   "cell_type": "code",
   "execution_count": null,
   "id": "9932a5b8-5d64-4514-ab56-d76ddcf7d5d6",
   "metadata": {},
   "outputs": [],
   "source": [
    "df [ \" views\" ]= views\n",
    "df to excel ( \" output xlsx\") "
   ]
  },
  {
   "cell_type": "code",
   "execution_count": null,
   "id": "a448b375-0cdf-4bf9-ab00-59438994bab1",
   "metadata": {},
   "outputs": [],
   "source": [
    "Q.5"
   ]
  },
  {
   "cell_type": "code",
   "execution_count": null,
   "id": "c1ac92e6-8e0b-4f35-9c7c-2e41bb92f4c3",
   "metadata": {},
   "outputs": [],
   "source": [
    "import datetime"
   ]
  },
  {
   "cell_type": "code",
   "execution_count": null,
   "id": "7e463ce6-5f1e-477c-aa83-eeabc8048654",
   "metadata": {},
   "outputs": [],
   "source": [
    "t= input (\" Enter a datetime ( YYYY-MM-DD H:M:S)\")\n",
    "t= datetime datetime striptime ( t, %Y-%m)"
   ]
  },
  {
   "cell_type": "code",
   "execution_count": null,
   "id": "e1485963-d797-4c62-91b1-8f5d3165fc88",
   "metadata": {},
   "outputs": [],
   "source": [
    "While True:\n",
    "print (\" Remain time :\"( t- datetime datetime now ()) second) seconds:'' end)\n",
    "time sleep (1)\n",
    "if ( t- datetime datetime now()) second <=0\n",
    "print ( \" stopped\", t)\n",
    "break"
   ]
  }
 ],
 "metadata": {
  "kernelspec": {
   "display_name": "Python 3 (ipykernel)",
   "language": "python",
   "name": "python3"
  },
  "language_info": {
   "codemirror_mode": {
    "name": "ipython",
    "version": 3
   },
   "file_extension": ".py",
   "mimetype": "text/x-python",
   "name": "python",
   "nbconvert_exporter": "python",
   "pygments_lexer": "ipython3",
   "version": "3.10.8"
  }
 },
 "nbformat": 4,
 "nbformat_minor": 5
}
